{
 "cells": [
  {
   "cell_type": "code",
   "execution_count": 1,
   "id": "071ca092-0d28-4233-9007-a943b038d9d7",
   "metadata": {},
   "outputs": [
    {
     "name": "stdout",
     "output_type": "stream",
     "text": [
      "Defaulting to user installation because normal site-packages is not writeable\n",
      "Requirement already satisfied: mysql-connector-python in /home/tanvir/.local/lib/python3.10/site-packages (8.1.0)\n",
      "Requirement already satisfied: protobuf<=4.21.12,>=4.21.1 in /home/tanvir/.local/lib/python3.10/site-packages (from mysql-connector-python) (4.21.12)\n"
     ]
    }
   ],
   "source": [
    "!pip3 install mysql-connector-python"
   ]
  },
  {
   "cell_type": "markdown",
   "id": "3aebcbd0-3236-461e-b0c7-602ee15737e6",
   "metadata": {},
   "source": [
    "## TASK 1"
   ]
  },
  {
   "cell_type": "code",
   "execution_count": 2,
   "id": "f23516f6-f603-4887-b813-5d813ff70ccc",
   "metadata": {},
   "outputs": [],
   "source": [
    "import mysql.connector as connector"
   ]
  },
  {
   "cell_type": "code",
   "execution_count": 3,
   "id": "3b2bb797-06ed-41e6-a564-5f1ed3b9004b",
   "metadata": {},
   "outputs": [],
   "source": [
    "connection = connector.connect(user=\"root\",password=\"1122\",db = \"LittleLemonDB\")"
   ]
  },
  {
   "cell_type": "code",
   "execution_count": 4,
   "id": "73a1d0d6-e2ec-4063-bb5b-5af7cbec715b",
   "metadata": {},
   "outputs": [
    {
     "name": "stdout",
     "output_type": "stream",
     "text": [
      "LittleLemonDB\n",
      "root\n"
     ]
    }
   ],
   "source": [
    "print(connection.database)\n",
    "print(connection.user)"
   ]
  },
  {
   "cell_type": "markdown",
   "id": "1b5dde52-fcd8-4f35-816f-f91b51ccbc93",
   "metadata": {},
   "source": [
    "## Task 2"
   ]
  },
  {
   "cell_type": "code",
   "execution_count": 5,
   "id": "e6f6ad95-4c3a-4ebe-ade7-c93f14829027",
   "metadata": {},
   "outputs": [],
   "source": [
    "cursor = connection.cursor()"
   ]
  },
  {
   "cell_type": "code",
   "execution_count": 6,
   "id": "09fb1b9e-2120-4243-ac3d-aeba0818a090",
   "metadata": {},
   "outputs": [],
   "source": [
    "query = \"SHOW TABLES\"\n",
    "cursor.execute(query)"
   ]
  },
  {
   "cell_type": "code",
   "execution_count": 7,
   "id": "40791bfb-8d7d-4b6e-b803-16e7768f8c74",
   "metadata": {},
   "outputs": [],
   "source": [
    "results = cursor.fetchall()"
   ]
  },
  {
   "cell_type": "code",
   "execution_count": 8,
   "id": "4ee81353-2b92-4a1f-9033-8b0a1d575522",
   "metadata": {},
   "outputs": [
    {
     "name": "stdout",
     "output_type": "stream",
     "text": [
      "('Bookings',)\n",
      "('Customer',)\n",
      "('Delivery',)\n",
      "('Menu',)\n",
      "('MenuItems',)\n",
      "('Orders',)\n",
      "('Staff',)\n"
     ]
    }
   ],
   "source": [
    "for table in results:\n",
    "    print(table)"
   ]
  },
  {
   "cell_type": "markdown",
   "id": "144fd28b-1be9-4deb-84d2-c70741533a7d",
   "metadata": {},
   "source": [
    "## Task 3"
   ]
  },
  {
   "cell_type": "code",
   "execution_count": 14,
   "id": "d6671048-e211-4041-ab13-7a6b169464b4",
   "metadata": {},
   "outputs": [
    {
     "name": "stdout",
     "output_type": "stream",
     "text": [
      "('Tanvir Rahman', '01626543564', 'tanvir@gmail.com')\n",
      "('Abdul Hasib', '02774652', 'hasib@gmail.com')\n",
      "('Tanvir Rahman', '01626543564', 'tanvir@gmail.com')\n",
      "('Abdul Hasib', '02774652', 'hasib@gmail.com')\n",
      "('Vicky Hasan', '098675612', 'vicky@gmail.com')\n"
     ]
    }
   ],
   "source": [
    "## full name\n",
    "## contact details\n",
    "## who placed order greater than 60\n",
    "query = '''SELECT C.CustomerName,C.MobileNumber,C.Email FROM Orders O\n",
    "           JOIN\n",
    "           Customer C\n",
    "           ON O.CustomerID = C.CustomerID\n",
    "           WHERE O.TotalCost > 60\n",
    "        '''\n",
    "cursor.execute(query)\n",
    "results = cursor.fetchall()\n",
    "for item in results:\n",
    "    print(item)\n"
   ]
  },
  {
   "cell_type": "code",
   "execution_count": null,
   "id": "a97b1942-bf0f-4581-b8f4-029f2c78e2f7",
   "metadata": {},
   "outputs": [],
   "source": []
  }
 ],
 "metadata": {
  "kernelspec": {
   "display_name": "Python 3 (ipykernel)",
   "language": "python",
   "name": "python3"
  },
  "language_info": {
   "codemirror_mode": {
    "name": "ipython",
    "version": 3
   },
   "file_extension": ".py",
   "mimetype": "text/x-python",
   "name": "python",
   "nbconvert_exporter": "python",
   "pygments_lexer": "ipython3",
   "version": "3.10.12"
  }
 },
 "nbformat": 4,
 "nbformat_minor": 5
}
